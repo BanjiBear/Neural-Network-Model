{
 "cells": [
  {
   "cell_type": "code",
   "execution_count": null,
   "id": "925d746c",
   "metadata": {},
   "outputs": [],
   "source": [
    "import os\n",
    "\n",
    "import numpy as nrc_py\n",
    "import pandas as pnl_data"
   ]
  },
  {
   "cell_type": "code",
   "execution_count": null,
   "id": "72de0a31",
   "metadata": {},
   "outputs": [],
   "source": [
    "def read_data_from_csv(path):\n",
    "\n",
    "    assert os.path.exists(path), f'File not found: {path}!'\n",
    "    assert os.path.splitext(path)[\n",
    "        -1] == '.csv', f'Unsupported file type {os.path.splitext(path)[-1]}!'\n",
    "\n",
    "    data = pnl_data.read_csv(path)\n",
    "    column_list = data.columns.values.tolist()\n",
    "    column_list.remove('id')\n",
    "\n",
    "    if 'target' in column_list:\n",
    "        # for the training dataset, label column is provided.\n",
    "        column_list.remove('target')\n",
    "        X = data[column_list].values\n",
    "        y = data['target'].astype('int').values\n",
    "        return X, y\n",
    "    else:\n",
    "        # for the testing dataset, label column is not provided.\n",
    "        X = data[column_list].values\n",
    "        return X"
   ]
  },
  {
   "cell_type": "code",
   "execution_count": null,
   "id": "2074f28b",
   "metadata": {},
   "outputs": [],
   "source": [
    "\"\"\"\n",
    "This cell is for data analyzing\n",
    "\n",
    "\"\"\"\n",
    "data = pnl_data.read_csv('../dont-overfit-ii/train.csv')\n",
    "data.head()"
   ]
  },
  {
   "cell_type": "code",
   "execution_count": null,
   "id": "c0be613d",
   "metadata": {},
   "outputs": [],
   "source": [
    "\"\"\"\n",
    "This cell is for data analyzing\n",
    "\n",
    "\"\"\"\n",
    "data.info()\n",
    "data.shape # with column id and target"
   ]
  },
  {
   "cell_type": "code",
   "execution_count": null,
   "id": "60b09cb1",
   "metadata": {},
   "outputs": [],
   "source": [
    "\"\"\"\n",
    "This cell is for data analyzing\n",
    "\n",
    "\"\"\"\n",
    "data.isnull().sum()\n",
    "data.describe()"
   ]
  },
  {
   "cell_type": "code",
   "execution_count": null,
   "id": "b28e409e",
   "metadata": {},
   "outputs": [],
   "source": [
    "\"\"\"\n",
    "This cell is for data analyzing\n",
    "\n",
    "\"\"\"\n",
    "data.corr()"
   ]
  },
  {
   "cell_type": "code",
   "execution_count": null,
   "id": "1a4353d6",
   "metadata": {},
   "outputs": [],
   "source": [
    "X, y = read_data_from_csv('../dont-overfit-ii/train.csv')\n",
    "print('Shape of X:', X.shape)  # sample, feature\n",
    "print('Shape of y:', y.shape)  # sample (0, 1)"
   ]
  },
  {
   "cell_type": "code",
   "execution_count": null,
   "id": "e33a6fb6",
   "metadata": {},
   "outputs": [],
   "source": [
    "\"\"\"\n",
    "This cell is for data analyzing\n",
    "\n",
    "\"\"\"\n",
    "print(X)\n",
    "print(X[0])\n",
    "#print(y)  # (0, 1)\n",
    "#print(type(y[0]))"
   ]
  },
  {
   "cell_type": "code",
   "execution_count": null,
   "id": "2d591f95",
   "metadata": {},
   "outputs": [],
   "source": [
    "X = X.tolist()\n",
    "for i in range(0, 250):\n",
    "    X[i].append(1)\n",
    "\n",
    "print(type(X[0]))\n",
    "print(type(X))"
   ]
  },
  {
   "cell_type": "code",
   "execution_count": null,
   "id": "647c00f3",
   "metadata": {},
   "outputs": [],
   "source": [
    "print(X[1])\n",
    "print(len(X[1]))"
   ]
  },
  {
   "cell_type": "code",
   "execution_count": null,
   "id": "068c56e8",
   "metadata": {},
   "outputs": [],
   "source": [
    "from sklearn.model_selection import train_test_split # Import train_test_split function\n",
    "from sklearn import metrics #Import scikit-learn metrics module for accuracy calculation\n",
    "\n",
    "# 250 training samples\n",
    "# 200 for training, 50 for validating (20%)\n",
    "X_train, X_test, y_train, y_test = train_test_split(X, y, test_size=0.2, random_state=1)"
   ]
  },
  {
   "cell_type": "code",
   "execution_count": null,
   "id": "797cfba3",
   "metadata": {},
   "outputs": [],
   "source": [
    "print(len(X_train))\n",
    "print(len(X_train[1]))\n",
    "print(len(y_test))\n",
    "print(len(y_test[1]))"
   ]
  },
  {
   "cell_type": "code",
   "execution_count": null,
   "id": "cd72a2c9",
   "metadata": {},
   "outputs": [],
   "source": [
    "\"\"\"\n",
    "    \n",
    "    The model design starts here!!!\n",
    "    The model design starts here!!!\n",
    "    The model design starts here!!!\n",
    "    \n",
    "\"\"\""
   ]
  },
  {
   "cell_type": "code",
   "execution_count": null,
   "id": "c10b3051",
   "metadata": {},
   "outputs": [],
   "source": [
    "def step_Function(x):\n",
    "    return 1 if x > 0 else 0\n",
    "def linear_Activation_Function(a, x):\n",
    "    return a*x\n",
    "def sigmoid_Activation_Function(x):\n",
    "    return 1./(1+nrc_py.exp(-x))\n",
    "def tanh_Activation_Function(x):\n",
    "    return 2*sigmoid_Activation_Function(2*x)-1\n",
    "\"\"\" Reference: https://towardsdatascience.com/what-is-activation-function-1464a629cdca \"\"\""
   ]
  },
  {
   "cell_type": "code",
   "execution_count": null,
   "id": "ea39ecfe",
   "metadata": {},
   "outputs": [],
   "source": [
    "#print(y)\n",
    "#print(y[0])\n",
    "import random\n",
    "def initializeWeights(y, numberOfInputs):\n",
    "    rand = []\n",
    "    for i in range(0, numberOfInputs):\n",
    "        # Last one for the Bias\n",
    "        rand.append(random.uniform(-0.01, 0.01))\n",
    "    #print(len(rand))\n",
    "    #print(nrc_py.array(rand).shape, y.shape)\n",
    "    return nrc_py.array(rand)\n",
    "\n",
    "def Layer1(x, L1): \n",
    "    for i in range(0, 100): \n",
    "        sum = 0 \n",
    "        # For the first hidden Layer, we output 100 neurons \n",
    "        for j in range(0, 301): \n",
    "            sum = sum + (x[j] * weightsForLayerOne[i][j])\n",
    "        #print(\"sum = \", sum)\n",
    "        sum = tanh_Activation_Function(sum)\n",
    "        L1.append(sum) \n",
    "        #print(sum) # For Debugging\n",
    "    return L1\n",
    "\n",
    "def Layer2(x, L2): \n",
    "    for i in range(0, 1): \n",
    "        sum = 0 \n",
    "        # For the first hidden Layer, we output 100 neurons \n",
    "        for j in range(0, 101): \n",
    "            sum = sum + (x[j] * weightsForLayerOutput[i][j])\n",
    "        #print(sum) # For Debugging\n",
    "        L2 = step_Function(sum)\n",
    "    return L2\n",
    "\n",
    "\n",
    "def Error_Function(L2, y):\n",
    "    #print(L2) # For Debugging\n",
    "    #print(y) # For Debugging\n",
    "    if L2 - y == 0:\n",
    "        return 0\n",
    "    else: return y - L2"
   ]
  },
  {
   "cell_type": "code",
   "execution_count": null,
   "id": "05466f34",
   "metadata": {},
   "outputs": [],
   "source": [
    "learning_Rate = 0.001\n",
    "Accuracy = []\n",
    "\n",
    "weightsForLayerOne = nrc_py.empty((100, 301))\n",
    "weightsForLayerOutput = nrc_py.empty((1, 101)) \n",
    "#print(weightsForLayerOne.shape) \n",
    "for i in range(0, 100): \n",
    "    weightsForLayerOne[i] = initializeWeights(weightsForLayerOne[i], 301) \n",
    "for i in range(0, 1): \n",
    "    weightsForLayerOutput[i] = initializeWeights(weightsForLayerOutput[i], 101)\n",
    "    \n",
    "#print(weightsForLayerOne) # For Debugging\n",
    "#print(weightsForLayerOutput) # For Debugging\n",
    "#print(len(weightsForLayerOne)) # For Debugging \n",
    "#print(weightsForLayerOne[1].shape) # For Debugging\n",
    "\n",
    "\n"
   ]
  },
  {
   "cell_type": "code",
   "execution_count": null,
   "id": "7a3b73cc",
   "metadata": {},
   "outputs": [],
   "source": [
    "\"\"\"\n",
    "e = 1\n",
    "Acc = 0\n",
    "while Acc < 0.824:\n",
    "    numberOfCorrectPredictions = 0\n",
    "    for iterations in range(0, 250):\n",
    "        L1 = [] # Layer 1\n",
    "        L2 = 0 # Layer 2\n",
    "        L1 = Layer1(X[iterations], L1)\n",
    "        #print(len(L1)) # For Debugging (100)\n",
    "        L1.append(1)\n",
    "        #print(len(L1)) # For Debugging (101)\n",
    "        L2 = Layer2(L1, L2)\n",
    "        #print(L1) # For Debugging\n",
    "\n",
    "        error = Error_Function(L2, y[iterations])\n",
    "        if error != 0:\n",
    "            for i in range(0, 101):\n",
    "                #print(weightsForLayerOutput[0][i]) # For Debugging\n",
    "                weightsForLayerOutput[0][i] = weightsForLayerOutput[0][i] + (learning_Rate * error * L1[i])\n",
    "                #print(\"update V = \", weightsForLayerOutput[0][i]) # For Debugging\n",
    "            for i in range(0, 100):\n",
    "                for j in range(0, 301):\n",
    "                    #print(weightsForLayerOutput[0][i]) # For Debugging\n",
    "                    weightsForLayerOne[i][j] = weightsForLayerOne[i][j] + (learning_Rate * error * weightsForLayerOutput[0][i] * L1[i] * (1 - L1[i]) * X[iterations][j])\n",
    "        else:\n",
    "            numberOfCorrectPredictions = numberOfCorrectPredictions + 1\n",
    "    \n",
    "    #print(weightsForLayerOutput) # For Debugging\n",
    "    print(numberOfCorrectPredictions, \", \", e)\n",
    "    Acc = numberOfCorrectPredictions / 250\n",
    "    print(\"Accuracy = \", Acc )\n",
    "    Accuracy.append(Acc)\n",
    "    e = e + 1\n",
    "\"\"\""
   ]
  },
  {
   "cell_type": "code",
   "execution_count": null,
   "id": "eaf36ac9",
   "metadata": {},
   "outputs": [],
   "source": [
    "# Start testing with Unseen Data\n",
    "UnseenData = read_data_from_csv('../dont-overfit-ii/test.csv')"
   ]
  },
  {
   "cell_type": "code",
   "execution_count": null,
   "id": "964686bd",
   "metadata": {},
   "outputs": [],
   "source": [
    "print('Shape of UnseenData:', UnseenData.shape)  # k_sample, m_feature"
   ]
  },
  {
   "cell_type": "code",
   "execution_count": null,
   "id": "cd80479e",
   "metadata": {},
   "outputs": [],
   "source": [
    "UnseenData = UnseenData.tolist()\n",
    "for i in range(0, 19750):\n",
    "    UnseenData[i].append(1)\n",
    "\n",
    "print(len(UnseenData[1]))"
   ]
  },
  {
   "cell_type": "code",
   "execution_count": null,
   "id": "ed69fe4b",
   "metadata": {},
   "outputs": [],
   "source": [
    "predictedUnseenLabels = []\n",
    "for iterations in range(0, 19750):\n",
    "    L1 = [] # Layer 1\n",
    "    L2 = 0 # Layer 2\n",
    "    L1 = Layer1(UnseenData[iterations], L1)\n",
    "    L1.append(1)\n",
    "    L2 = Layer2(L1, L2)\n",
    "    #print(len(L1)) # For Debugging\n",
    "    #print(L1) # For Debugging\n",
    "    predictedUnseenLabels.append(L2)"
   ]
  },
  {
   "cell_type": "code",
   "execution_count": null,
   "id": "9fd4f553",
   "metadata": {},
   "outputs": [],
   "source": [
    "print(len(predictedUnseenLabels)) # For Debugging\n",
    "print(predictedUnseenLabels) # For Debugging"
   ]
  },
  {
   "cell_type": "code",
   "execution_count": null,
   "id": "4a4ac4a8",
   "metadata": {},
   "outputs": [],
   "source": [
    "id_header = []\n",
    "for i in range(250, 20000):\n",
    "    id_header.append(i)\n",
    "\n",
    "output = pnl_data.DataFrame({'id' : id_header, 'target': predictedUnseenLabels})\n",
    "output.to_csv('result.csv', index=False)"
   ]
  },
  {
   "cell_type": "code",
   "execution_count": null,
   "id": "3d8e6e05",
   "metadata": {},
   "outputs": [],
   "source": [
    "#xxx = pnl_data.read_csv('result.csv')\n",
    "#xxx.info()\n",
    "#xxx.shape"
   ]
  },
  {
   "cell_type": "code",
   "execution_count": null,
   "id": "12698393",
   "metadata": {},
   "outputs": [],
   "source": [
    "print(len(Accuracy)) # For Debugging"
   ]
  },
  {
   "cell_type": "code",
   "execution_count": null,
   "id": "025a25e3",
   "metadata": {},
   "outputs": [],
   "source": [
    "from matplotlib import pyplot as plt\n",
    "%matplotlib inline\n",
    "plt.figure(figsize=(12,8))\n",
    "plt.plot(Accuracy)\n",
    "plt.savefig('plot_Trial5.2.jpg', dpi=300, bbox_inches='tight')\n",
    "plt.show()"
   ]
  },
  {
   "cell_type": "code",
   "execution_count": null,
   "id": "0e4b4dde",
   "metadata": {},
   "outputs": [],
   "source": [
    "max(Accuracy)"
   ]
  },
  {
   "cell_type": "code",
   "execution_count": null,
   "id": "0b7c07ac",
   "metadata": {},
   "outputs": [],
   "source": []
  }
 ],
 "metadata": {
  "kernelspec": {
   "display_name": "Python 3",
   "language": "python",
   "name": "python3"
  },
  "language_info": {
   "codemirror_mode": {
    "name": "ipython",
    "version": 3
   },
   "file_extension": ".py",
   "mimetype": "text/x-python",
   "name": "python",
   "nbconvert_exporter": "python",
   "pygments_lexer": "ipython3",
   "version": "3.8.8"
  }
 },
 "nbformat": 4,
 "nbformat_minor": 5
}
